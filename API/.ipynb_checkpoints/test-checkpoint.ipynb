{
 "cells": [
  {
   "cell_type": "code",
   "execution_count": 1,
   "metadata": {},
   "outputs": [],
   "source": [
    "from predict import predict_flight_delay"
   ]
  },
  {
   "cell_type": "code",
   "execution_count": 4,
   "metadata": {},
   "outputs": [
    {
     "name": "stdout",
     "output_type": "stream",
     "text": [
      "  AIRLINE  DAY_OF_WEEK  MONTH ORIGIN_AIRPORT DESTINATION_AIRPORT\n",
      "0      HA            4      2            HNL                 KOA\n",
      "Predicted label = 1 with probability 0.54\n"
     ]
    },
    {
     "data": {
      "text/plain": [
       "(1, 0.5376087259920839)"
      ]
     },
     "execution_count": 4,
     "metadata": {},
     "output_type": "execute_result"
    }
   ],
   "source": [
    "x = [['HA', 4, 2, 'HNL', 'KOA']]\n",
    "predict_flight_delay(x)"
   ]
  },
  {
   "cell_type": "code",
   "execution_count": null,
   "metadata": {},
   "outputs": [],
   "source": [
    "# http://0.0.0.0:8080/prediction?AIRLINE=HA&DAY_OF_WEEK=4&MONTH=2&ORIGIN_AIRPORT=HNL&DESTINATION_AIRPORT=KOA"
   ]
  },
  {
   "cell_type": "code",
   "execution_count": null,
   "metadata": {},
   "outputs": [],
   "source": []
  },
  {
   "cell_type": "code",
   "execution_count": null,
   "metadata": {},
   "outputs": [],
   "source": []
  },
  {
   "cell_type": "code",
   "execution_count": null,
   "metadata": {},
   "outputs": [],
   "source": []
  },
  {
   "cell_type": "code",
   "execution_count": 5,
   "metadata": {},
   "outputs": [
    {
     "name": "stdout",
     "output_type": "stream",
     "text": [
      "  AIRLINE  DAY_OF_WEEK  MONTH ORIGIN_AIRPORT DESTINATION_AIRPORT\n",
      "0      HA            4      2            HNL                 KOA\n",
      "Predicted label = 1 with probability 0.54\n"
     ]
    }
   ],
   "source": [
    "import pandas as pd\n",
    "import numpy as np\n",
    "import pickle\n",
    "from sklearn.preprocessing import LabelEncoder, LabelBinarizer, Imputer, StandardScaler, RobustScaler\n",
    "from sklearn.base import BaseEstimator, TransformerMixin\n",
    "from sklearn.pipeline import Pipeline, FeatureUnion, make_pipeline\n",
    "from sklearn.neural_network import MLPClassifier\n",
    "import PipelineHelper\n",
    "\n",
    "modelfile=\"model.pkl\"\n",
    "pickle_model = pickle.load(open(modelfile, 'rb'))\n",
    "\n",
    "x = [['HA', 4, 2, 'HNL', 'KOA']]\n",
    "\n",
    "x = pd.DataFrame(x, columns=['AIRLINE','DAY_OF_WEEK', 'MONTH', 'ORIGIN_AIRPORT', 'DESTINATION_AIRPORT'])\n",
    "print(x)\n",
    "y = pickle_model.predict(x)[0]\n",
    "prob = pickle_model.predict_proba(x)[0][y]\n",
    "print('Predicted label = {} with probability {:.2f}'.format(y, prob))"
   ]
  },
  {
   "cell_type": "code",
   "execution_count": 7,
   "metadata": {},
   "outputs": [
    {
     "data": {
      "text/plain": [
       "0    4\n",
       "Name: DAY_OF_WEEK, dtype: int64"
      ]
     },
     "execution_count": 7,
     "metadata": {},
     "output_type": "execute_result"
    }
   ],
   "source": [
    "x['DAY_OF_WEEK']"
   ]
  },
  {
   "cell_type": "code",
   "execution_count": 8,
   "metadata": {},
   "outputs": [
    {
     "data": {
      "text/plain": [
       "0    2\n",
       "Name: MONTH, dtype: int64"
      ]
     },
     "execution_count": 8,
     "metadata": {},
     "output_type": "execute_result"
    }
   ],
   "source": [
    "x['MONTH']"
   ]
  },
  {
   "cell_type": "code",
   "execution_count": 9,
   "metadata": {},
   "outputs": [
    {
     "name": "stdout",
     "output_type": "stream",
     "text": [
      "  AIRLINE  DAY_OF_WEEK  MONTH ORIGIN_AIRPORT DESTINATION_AIRPORT\n",
      "0      HA            4      2            HNL                 KOA\n"
     ]
    }
   ],
   "source": [
    "x = [['HA', 4, 2, 'HNL', 'KOA']]\n",
    "x = pd.DataFrame(x, columns=['AIRLINE','DAY_OF_WEEK', 'MONTH', 'ORIGIN_AIRPORT', 'DESTINATION_AIRPORT'])\n",
    "print(x)"
   ]
  },
  {
   "cell_type": "code",
   "execution_count": 10,
   "metadata": {},
   "outputs": [
    {
     "data": {
      "text/plain": [
       "array([1])"
      ]
     },
     "execution_count": 10,
     "metadata": {},
     "output_type": "execute_result"
    }
   ],
   "source": [
    "pickle_model.predict(x)"
   ]
  },
  {
   "cell_type": "code",
   "execution_count": null,
   "metadata": {},
   "outputs": [],
   "source": []
  },
  {
   "cell_type": "code",
   "execution_count": null,
   "metadata": {},
   "outputs": [],
   "source": []
  },
  {
   "cell_type": "code",
   "execution_count": null,
   "metadata": {},
   "outputs": [],
   "source": []
  },
  {
   "cell_type": "code",
   "execution_count": null,
   "metadata": {},
   "outputs": [],
   "source": []
  },
  {
   "cell_type": "code",
   "execution_count": null,
   "metadata": {},
   "outputs": [],
   "source": []
  },
  {
   "cell_type": "code",
   "execution_count": 5,
   "metadata": {},
   "outputs": [
    {
     "name": "stdout",
     "output_type": "stream",
     "text": [
      "  AIRLINE DAY_OF_WEEK MONTH ORIGIN_AIRPORT DESTINATION_AIRPORT\n",
      "0      HA           4     2            HNL                 KOA\n",
      "Predicted label = 0 with probability 0.64\n",
      "0 0.6431175477517294\n"
     ]
    }
   ],
   "source": [
    "x = [['HA','4','2','HNL','KOA']]\n",
    "y_pred, y_prob = predict_flight_delay(x)\n",
    "print(y_pred, y_prob)"
   ]
  },
  {
   "cell_type": "code",
   "execution_count": 3,
   "metadata": {},
   "outputs": [
    {
     "name": "stdout",
     "output_type": "stream",
     "text": [
      "  AIRLINE  DAY_OF_WEEK  MONTH ORIGIN_AIRPORT DESTINATION_AIRPORT\n",
      "0      HA            4      2            HNL                 KOA\n",
      "Predicted label = 1 with probability 0.54\n",
      "1 0.5376087259920839\n"
     ]
    }
   ],
   "source": [
    "x = [['HA',int('4'),int('2'),'HNL','KOA']]\n",
    "y_pred, y_prob = predict_flight_delay(x)\n",
    "print(y_pred, y_prob)"
   ]
  },
  {
   "cell_type": "code",
   "execution_count": 4,
   "metadata": {},
   "outputs": [
    {
     "name": "stdout",
     "output_type": "stream",
     "text": [
      "  AIRLINE  DAY_OF_WEEK  MONTH ORIGIN_AIRPORT DESTINATION_AIRPORT\n",
      "0      HA            4      2            HNL                 KOA\n",
      "Predicted label = 1 with probability 0.54\n",
      "1 0.5376087259920839\n"
     ]
    }
   ],
   "source": [
    "x = [['HA',4,2,'HNL','KOA']]\n",
    "y_pred, y_prob = predict_flight_delay(x)\n",
    "print(y_pred, y_prob)"
   ]
  },
  {
   "cell_type": "code",
   "execution_count": null,
   "metadata": {},
   "outputs": [],
   "source": [
    "\n",
    "        \n",
    "        \n",
    "        "
   ]
  },
  {
   "cell_type": "code",
   "execution_count": null,
   "metadata": {},
   "outputs": [],
   "source": [
    "x"
   ]
  },
  {
   "cell_type": "code",
   "execution_count": null,
   "metadata": {},
   "outputs": [],
   "source": [
    "{\"AIRLINE\":\"HA\",\n",
    " \"DAY_OF_WEEK\":\"4\",\n",
    " \"DESTINATION_AIRPORT\":\"KOA\",\n",
    " \"MONTH\":\"2\",\n",
    " \"ORIGIN_AIRPORT\":\"HNL\",\n",
    " \"PRED_ARRIVAL_DELAY\":\"0\",\n",
    " \"PRED_PROB\":\"0.6431175477517291\"}\n",
    "\n",
    "\n",
    "{\"AIRLINE\":\"HA\",\"DAY_OF_WEEK\":\"4\",\n",
    " \"DESTINATION_AIRPORT\":\"HNL\",\n",
    " \"MONTH\":\"2\",\n",
    " \"ORIGIN_AIRPORT\":\"KOA\",\n",
    " \"PRED_ARRIVAL_DELAY\":\"0\",\n",
    " \"PRED_PROB\":\"0.5958727273982903\"}\n",
    "\n",
    "\n"
   ]
  }
 ],
 "metadata": {
  "kernelspec": {
   "display_name": "Python 3",
   "language": "python",
   "name": "python3"
  },
  "language_info": {
   "codemirror_mode": {
    "name": "ipython",
    "version": 3
   },
   "file_extension": ".py",
   "mimetype": "text/x-python",
   "name": "python",
   "nbconvert_exporter": "python",
   "pygments_lexer": "ipython3",
   "version": "3.6.6"
  }
 },
 "nbformat": 4,
 "nbformat_minor": 2
}
